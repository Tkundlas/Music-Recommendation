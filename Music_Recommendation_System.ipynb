{
  "nbformat": 4,
  "nbformat_minor": 0,
  "metadata": {
    "colab": {
      "name": "Music Recommendation System.ipynb",
      "provenance": [],
      "collapsed_sections": [],
      "authorship_tag": "ABX9TyPHfZeWZcw4V3G5JqRzFiFZ",
      "include_colab_link": true
    },
    "kernelspec": {
      "name": "python3",
      "display_name": "Python 3"
    },
    "language_info": {
      "name": "python"
    }
  },
  "cells": [
    {
      "cell_type": "markdown",
      "metadata": {
        "id": "view-in-github",
        "colab_type": "text"
      },
      "source": [
        "<a href=\"https://colab.research.google.com/github/Tkundlas/Music-Recommendation/blob/main/Music_Recommendation_System.ipynb\" target=\"_parent\"><img src=\"https://colab.research.google.com/assets/colab-badge.svg\" alt=\"Open In Colab\"/></a>"
      ]
    },
    {
      "cell_type": "code",
      "execution_count": null,
      "metadata": {
        "id": "YFaW2GvdtpeG"
      },
      "outputs": [],
      "source": [
        "!pip install recommenders"
      ]
    },
    {
      "cell_type": "code",
      "source": [
        "import pandas as pd\n",
        "import numpy as np\n",
        "import recommenders as Recommenders"
      ],
      "metadata": {
        "id": "EvB0D2n81D3C"
      },
      "execution_count": null,
      "outputs": []
    },
    {
      "cell_type": "code",
      "source": [
        "song_df_1 = pd.read_csv('triplets_file.csv')\n",
        "song_df_1.head(10)"
      ],
      "metadata": {
        "id": "z6MkIlUtuKGg"
      },
      "execution_count": null,
      "outputs": []
    },
    {
      "cell_type": "code",
      "source": [
        "song_df_2 = pd.read_csv('song_data.csv')\n",
        "song_df_2.head(10)"
      ],
      "metadata": {
        "id": "Gk_3-twe1tuv"
      },
      "execution_count": null,
      "outputs": []
    },
    {
      "cell_type": "code",
      "source": [
        "song_df = pd.merge(song_df_1, song_df_2.drop_duplicates(['song_id']), on='song_id', how='left')\n",
        "song_df.head()"
      ],
      "metadata": {
        "id": "-rX11-d211us"
      },
      "execution_count": null,
      "outputs": []
    },
    {
      "cell_type": "code",
      "source": [
        "print(len(song_df_1), len(song_df_2))"
      ],
      "metadata": {
        "id": "T6GErz8y25tl"
      },
      "execution_count": null,
      "outputs": []
    },
    {
      "cell_type": "code",
      "source": [
        "len(song_df)"
      ],
      "metadata": {
        "id": "X-z9XddY29BU"
      },
      "execution_count": null,
      "outputs": []
    },
    {
      "cell_type": "code",
      "source": [
        "song_df['song'] = song_df['title']+' - '+song_df['artist_name']\n",
        "song_df.head()"
      ],
      "metadata": {
        "id": "PqcyJGA63Bpa"
      },
      "execution_count": null,
      "outputs": []
    },
    {
      "cell_type": "code",
      "source": [
        "song_df = song_df.head(10000)"
      ],
      "metadata": {
        "id": "kvs6l5yn3Hlq"
      },
      "execution_count": null,
      "outputs": []
    },
    {
      "cell_type": "code",
      "source": [
        "song_grouped = song_df.groupby(['song']).agg({'listen_count':'count'}).reset_index()\n",
        "song_grouped.head(10)"
      ],
      "metadata": {
        "id": "2C8e_oGF8BN3"
      },
      "execution_count": null,
      "outputs": []
    },
    {
      "cell_type": "code",
      "source": [
        "grouped_sum = song_grouped['listen_count'].sum()\n",
        "song_grouped['percentage'] = (song_grouped['listen_count'] / grouped_sum ) * 100\n",
        "song_grouped.sort_values(['listen_count', 'song'], ascending=[0,1])"
      ],
      "metadata": {
        "id": "bU7iOzmU3Njf"
      },
      "execution_count": null,
      "outputs": []
    },
    {
      "cell_type": "code",
      "source": [
        "##Popularity Recommadation Engine"
      ],
      "metadata": {
        "id": "W52vw4xU3RRJ"
      },
      "execution_count": null,
      "outputs": []
    },
    {
      "cell_type": "code",
      "source": [
        "import numpy as np\n",
        "import pandas\n",
        "\n",
        "#Class for Popularity based Recommender System model\n",
        "class popularity_recommender_py():\n",
        "    def _init_(self):\n",
        "        self.train_data = None\n",
        "        self.user_id = None\n",
        "        self.item_id = None\n",
        "        self.popularity_recommendations = None\n",
        "        \n",
        "    def create(self, train_data, user_id, item_id):\n",
        "        self.train_data = train_data\n",
        "        self.user_id = user_id\n",
        "        self.item_id = item_id\n",
        "\n",
        "        train_data_grouped = train_data.groupby([self.item_id]).agg({self.user_id: 'count'}).reset_index()\n",
        "        train_data_grouped.rename(columns = {'user_id': 'score'},inplace=True)\n",
        "    \n",
        "        train_data_sort = train_data_grouped.sort_values(['score', self.item_id], ascending = [0,1])\n",
        "    \n",
        "        train_data_sort['Rank'] = train_data_sort['score'].rank(ascending=0, method='first')\n",
        "        \n",
        "        self.popularity_recommendations = train_data_sort.head(100)\n",
        "\n",
        "    #Use the popularity based recommender system model to\n",
        "    #make recommendations\n",
        "    def recommend(self, user_id):    \n",
        "        user_recommendations = self.popularity_recommendations\n",
        "        \n",
        "        user_recommendations['user_id'] = user_id\n",
        "    \n",
        "        cols = user_recommendations.columns.tolist()\n",
        "        cols = cols[-1:] + cols[:-1]\n",
        "        user_recommendations = user_recommendations[cols]\n",
        "        \n",
        "        return user_recommendations\n",
        "    \n",
        "\n"
      ],
      "metadata": {
        "id": "aMO7OBZC3TDM"
      },
      "execution_count": null,
      "outputs": []
    },
    {
      "cell_type": "code",
      "source": [
        "pr = popularity_recommender_py()"
      ],
      "metadata": {
        "id": "jPrAWV_N4Ci8"
      },
      "execution_count": null,
      "outputs": []
    },
    {
      "cell_type": "code",
      "source": [
        "pr.create(song_df, 'user_id', 'song')"
      ],
      "metadata": {
        "id": "qshrCpAQ4Fpn"
      },
      "execution_count": null,
      "outputs": []
    },
    {
      "cell_type": "code",
      "source": [
        "pr.recommend(song_df['user_id'][5])"
      ],
      "metadata": {
        "id": "fMs-0-UY4JJI"
      },
      "execution_count": null,
      "outputs": []
    },
    {
      "cell_type": "code",
      "source": [
        "pr.recommend(song_df['user_id'][100])"
      ],
      "metadata": {
        "id": "YSeVUUv54NQo"
      },
      "execution_count": null,
      "outputs": []
    }
  ]
}